{
 "cells": [
  {
   "cell_type": "markdown",
   "metadata": {},
   "source": [
    "<span style=\"float:left;\">Licence CC BY-NC-ND</span><span style=\"float:right;\">Thierry Parmentelat - Inria&nbsp;<img src=\"media/inria-25.png\" style=\"display:inline\"></span><br/>"
   ]
  },
  {
   "cell_type": "markdown",
   "metadata": {
    "collapsed": true
   },
   "source": [
    "# Introduction"
   ]
  },
  {
   "cell_type": "markdown",
   "metadata": {},
   "source": [
    "## A simplistic orchestration engine\n",
    "\n",
    "The main and single purpose of this library is to allow for the static description of a scenario involving `asyncio`-compliant jobs, that have dependencies in the sense that a given job cannot start until its requirements have not completed.\n",
    "\n",
    "So in a nutshell you would:\n",
    "\n",
    "* define a set of `Job` objects, \n",
    "* together with their `requires` relationship; that is to say, for each of them, which other jobs need to have completed before this one can be started,\n",
    "* and run this logic through an `Scheduler` object, that will orchestrate the whole scenario.\n",
    "\n",
    "Further features allow to\n",
    "\n",
    "* define a job as running `forever`, in which case the scheduler of course won't wait for it, but instead will terminate it when all other jobs are done;\n",
    "* define a job as `critical`; a critical job that raises an exception causes the orchestration to terminate abruptly;\n",
    "* define a global `timeout` for the whole scheduler.\n"
   ]
  },
  {
   "cell_type": "markdown",
   "metadata": {},
   "source": [
    "A job object can be created:\n",
    "\n",
    "* either as a `Job` instance from a regular asyncio coroutine\n",
    "* or by specializing the `AbstractJob` class and defining its `co_run()` method\n",
    "\n",
    "As a convenience, the `Sequence` class is mostly a helper class that can free you from manually managing the `requires` deps in long strings of jobs."
   ]
  },
  {
   "cell_type": "markdown",
   "metadata": {},
   "source": [
    "## Full documentation"
   ]
  },
  {
   "cell_type": "markdown",
   "metadata": {},
   "source": [
    "This document, along with API reference doc, and changelog, is available at http://nepi-ng.inria.fr/asynciojobs/"
   ]
  },
  {
   "cell_type": "markdown",
   "metadata": {},
   "source": [
    "## Prerequisites"
   ]
  },
  {
   "cell_type": "markdown",
   "metadata": {},
   "source": [
    "`asynciojobs` requires `asyncio` and python-3.5."
   ]
  },
  {
   "cell_type": "code",
   "execution_count": 30,
   "metadata": {
    "collapsed": false
   },
   "outputs": [],
   "source": [
    "import sys\n",
    "major, minor = sys.version_info[:2]\n",
    "if (major, minor) < (3, 5):\n",
    "    print(\"asynciojobs won't work in this environment\")"
   ]
  },
  {
   "cell_type": "markdown",
   "metadata": {},
   "source": [
    "## Installing"
   ]
  },
  {
   "cell_type": "markdown",
   "metadata": {},
   "source": [
    "`asynciojobs` requires python-3.5, and can be installed from the pypi repository:"
   ]
  },
  {
   "cell_type": "markdown",
   "metadata": {},
   "source": [
    "```\n",
    "pip3 install asynciojobs\n",
    "```"
   ]
  },
  {
   "cell_type": "markdown",
   "metadata": {},
   "source": [
    "## Examples"
   ]
  },
  {
   "cell_type": "code",
   "execution_count": 2,
   "metadata": {
    "collapsed": true
   },
   "outputs": [],
   "source": [
    "import asyncio"
   ]
  },
  {
   "cell_type": "markdown",
   "metadata": {},
   "source": [
    "Let's consider a simple coroutine for the sake of illustration"
   ]
  },
  {
   "cell_type": "code",
   "execution_count": 3,
   "metadata": {
    "collapsed": false
   },
   "outputs": [],
   "source": [
    "import time\n",
    "\n",
    "# just print a message when entering and exiting, and sleep in the middle\n",
    "async def in_out(timeout):\n",
    "    print(\"-> in_out({})\".format(timeout))\n",
    "    await asyncio.sleep(timeout)\n",
    "    print(\"<- in_out({})\".format(timeout))\n",
    "    # return something easy to recognize: the number of milliseconds\n",
    "    return 1000 * timeout"
   ]
  },
  {
   "cell_type": "markdown",
   "metadata": {},
   "source": [
    "### Example A : running in parallel"
   ]
  },
  {
   "cell_type": "markdown",
   "metadata": {},
   "source": [
    "Running a series of coroutines in parallel - a la `gather` - can be done like this"
   ]
  },
  {
   "cell_type": "code",
   "execution_count": 4,
   "metadata": {
    "collapsed": true
   },
   "outputs": [],
   "source": [
    "from asynciojobs import Job, Scheduler"
   ]
  },
  {
   "cell_type": "code",
   "execution_count": 5,
   "metadata": {
    "collapsed": false
   },
   "outputs": [],
   "source": [
    "a1, a2, a3 = Job(in_out(0.1)), Job(in_out(0.2)), Job(in_out(0.25)),"
   ]
  },
  {
   "cell_type": "markdown",
   "metadata": {},
   "source": [
    "What we're saying here is that we have three jobs, that have no relationships between them. \n",
    "\n",
    "So when we run them, we would start all 3 coroutines at once, and return once they are all done:"
   ]
  },
  {
   "cell_type": "code",
   "execution_count": 6,
   "metadata": {
    "collapsed": false
   },
   "outputs": [
    {
     "name": "stdout",
     "output_type": "stream",
     "text": [
      "-> in_out(0.25)\n",
      "-> in_out(0.1)\n",
      "-> in_out(0.2)\n",
      "<- in_out(0.1)\n",
      "<- in_out(0.2)\n",
      "<- in_out(0.25)\n"
     ]
    },
    {
     "data": {
      "text/plain": [
       "True"
      ]
     },
     "execution_count": 6,
     "metadata": {},
     "output_type": "execute_result"
    }
   ],
   "source": [
    "sa = Scheduler(a1, a2, a3)\n",
    "sa.orchestrate()"
   ]
  },
  {
   "cell_type": "markdown",
   "metadata": {},
   "source": [
    "### Retrieving individual results"
   ]
  },
  {
   "cell_type": "markdown",
   "metadata": {},
   "source": [
    "We can see right away how to retrieve the results of the various jobs"
   ]
  },
  {
   "cell_type": "code",
   "execution_count": 7,
   "metadata": {
    "collapsed": false
   },
   "outputs": [
    {
     "data": {
      "text/plain": [
       "100.0"
      ]
     },
     "execution_count": 7,
     "metadata": {},
     "output_type": "execute_result"
    }
   ],
   "source": [
    "a1.result()"
   ]
  },
  {
   "cell_type": "markdown",
   "metadata": {},
   "source": [
    "### Example B : adding requirements (dependencies)"
   ]
  },
  {
   "cell_type": "markdown",
   "metadata": {},
   "source": [
    "Now we can add *requirements* dependencies between jobs, like in the following example. Here we want to run:\n",
    " \n",
    "* Job 1 followed by job 2\n",
    "* all this in parallel with job 3\n",
    "\n",
    "We take this chance to show that jobs can be tagged with a label, which can be convenient sometimes."
   ]
  },
  {
   "cell_type": "code",
   "execution_count": 8,
   "metadata": {
    "collapsed": false
   },
   "outputs": [],
   "source": [
    "b1, b2, b3 = (Job(in_out(0.1), label=\"b1\"),\n",
    "              Job(in_out(0.2), label=\"b2\"),\n",
    "              Job(in_out(0.25)))\n",
    "\n",
    "b2.requires(b1)"
   ]
  },
  {
   "cell_type": "markdown",
   "metadata": {},
   "source": [
    "Now `b3` needs `b1` to be finished before it can start. And so only the 2 first coroutines get started at the beginning, and only once b1 has finished does b3 start."
   ]
  },
  {
   "cell_type": "code",
   "execution_count": 9,
   "metadata": {
    "collapsed": false
   },
   "outputs": [
    {
     "name": "stdout",
     "output_type": "stream",
     "text": [
      "-> in_out(0.25)\n",
      "-> in_out(0.1)\n",
      "<- in_out(0.1)\n",
      "-> in_out(0.2)\n",
      "<- in_out(0.25)\n",
      "<- in_out(0.2)\n"
     ]
    },
    {
     "data": {
      "text/plain": [
       "True"
      ]
     },
     "execution_count": 9,
     "metadata": {},
     "output_type": "execute_result"
    }
   ],
   "source": [
    "# with this setup we are certain that b3 ends in the middle of b2\n",
    "sb = Scheduler(b1, b2, b3)\n",
    "sb.orchestrate()"
   ]
  },
  {
   "cell_type": "markdown",
   "metadata": {},
   "source": [
    "### Example B' : exact same using a `Sequence`\n",
    "\n",
    "The code above in example B is exactly identical to this"
   ]
  },
  {
   "cell_type": "code",
   "execution_count": 10,
   "metadata": {
    "collapsed": false
   },
   "outputs": [
    {
     "name": "stdout",
     "output_type": "stream",
     "text": [
      "-> in_out(0.25)\n",
      "-> in_out(0.1)\n",
      "<- in_out(0.1)\n",
      "-> in_out(0.2)\n",
      "<- in_out(0.25)\n",
      "<- in_out(0.2)\n"
     ]
    },
    {
     "data": {
      "text/plain": [
       "True"
      ]
     },
     "execution_count": 10,
     "metadata": {},
     "output_type": "execute_result"
    }
   ],
   "source": [
    "from asynciojobs import Sequence\n",
    "\n",
    "sb2 = Scheduler(Sequence(Job(in_out(0.1), label=\"bp1\"),\n",
    "                      Job(in_out(0.2), label=\"bp2\")),\n",
    "             Job(in_out(0.25)))\n",
    "\n",
    "sb2.orchestrate()"
   ]
  },
  {
   "cell_type": "markdown",
   "metadata": {},
   "source": [
    "### Return value for `Scheduler.orchestrate()` "
   ]
  },
  {
   "cell_type": "markdown",
   "metadata": {},
   "source": [
    "Note that because `sb.orchestrate()` had returned `True`, we could have inferred that all jobs have completed. As a matter of fact, `orchestrate` returns `True` if and only if:\n",
    "\n",
    "* all jobs have completed during the allocated timeout\n",
    "* no critical job has raised an exception"
   ]
  },
  {
   "cell_type": "markdown",
   "metadata": {},
   "source": [
    "### Inspecting scheduler and results - `Scheduler.list()`\n",
    "\n",
    "Before we see more examples, let's see more ways to get information about what happened once `orchestrate` finishes.\n",
    "For example to check that job `b1` has completed:"
   ]
  },
  {
   "cell_type": "code",
   "execution_count": 11,
   "metadata": {
    "collapsed": false
   },
   "outputs": [
    {
     "name": "stdout",
     "output_type": "stream",
     "text": [
      "True\n"
     ]
    }
   ],
   "source": [
    "print(b1.is_done())"
   ]
  },
  {
   "cell_type": "markdown",
   "metadata": {
    "collapsed": true
   },
   "source": [
    "To check that job `b3` has not raised an exception:"
   ]
  },
  {
   "cell_type": "code",
   "execution_count": 12,
   "metadata": {
    "collapsed": false
   },
   "outputs": [
    {
     "name": "stdout",
     "output_type": "stream",
     "text": [
      "None\n"
     ]
    }
   ],
   "source": [
    "print(b3.raised_exception())"
   ]
  },
  {
   "cell_type": "markdown",
   "metadata": {},
   "source": [
    "To see an overview of a scheduler, just use the `list()` method that will give you an overview - whether the scheduler has run or not, by the way:"
   ]
  },
  {
   "cell_type": "code",
   "execution_count": 13,
   "metadata": {
    "collapsed": false
   },
   "outputs": [
    {
     "name": "stdout",
     "output_type": "stream",
     "text": [
      "01   ☉ ☓   <Job `NOLABEL`>[[ -> 250.0]]\n",
      "02   ☉ ☓   <Job `b1`>[[ -> 100.0]]\n",
      "03   ☉ ☓   <Job `b2`>[[ -> 200.0]] - requires {02}\n"
     ]
    }
   ],
   "source": [
    "sb.list()"
   ]
  },
  {
   "cell_type": "markdown",
   "metadata": {},
   "source": [
    "Here is a complete list of the symbols used, with their meaning \n",
    "\n",
    "* `⚠` : critical\n",
    "* `★` : raised an exception\n",
    "* `☉` : went through fine (no exception raised)\n",
    "* `☓` : complete \n",
    "* `↺` : running  \n",
    "* `⚐` : idle     \n",
    "* `∞` : forever  \n"
   ]
  },
  {
   "cell_type": "markdown",
   "metadata": {},
   "source": [
    "And and here's an example of output for `list()` with all possible combinations of jobs:\n",
    "\n",
    "```\n",
    "01 ⚠ ★ ☓ ∞ <J `forever=True crit.=True status=done boom=True` => CRIT. EXC.:!!bool:True!!>\n",
    "02 ⚠ ★ ↺ ∞ <J `forever=True crit.=True status=ongoing boom=True` => CRIT. EXC.:!!bool:True!!> - requires:{01}\n",
    "03 ⚠ ★ ☓   <J `forever=False crit.=True status=done boom=True` => CRIT. EXC.:!!bool:True!!> - requires:{02}\n",
    "04 ⚠ ★ ↺   <J `forever=False crit.=True status=ongoing boom=True` => CRIT. EXC.:!!bool:True!!> - requires:{03}\n",
    "05 ⚠ ☉ ☓ ∞ <J `forever=True crit.=True status=done boom=False` -> 0> - requires:{04}\n",
    "06 ⚠ ☉ ↺ ∞ <J `forever=True crit.=True status=ongoing boom=False`> - requires:{05}\n",
    "07 ⚠   ⚐ ∞ <J `forever=True crit.=True status=idle boom=False`> - requires:{06}\n",
    "08 ⚠ ☉ ☓   <J `forever=False crit.=True status=done boom=False` -> 0> - requires:{07}\n",
    "09 ⚠ ☉ ↺   <J `forever=False crit.=True status=ongoing boom=False`> - requires:{08}\n",
    "10 ⚠   ⚐   <J `forever=False crit.=True status=idle boom=False`> - requires:{09}\n",
    "11   ★ ☓ ∞ <J `forever=True crit.=False status=done boom=True` => exception:!!bool:True!!> - requires:{10}\n",
    "12   ★ ↺ ∞ <J `forever=True crit.=False status=ongoing boom=True` => exception:!!bool:True!!> - requires:{11}\n",
    "13   ★ ☓   <J `forever=False crit.=False status=done boom=True` => exception:!!bool:True!!> - requires:{12}\n",
    "14   ★ ↺   <J `forever=False crit.=False status=ongoing boom=True` => exception:!!bool:True!!> - requires:{13}\n",
    "15   ☉ ☓ ∞ <J `forever=True crit.=False status=done boom=False` -> 0> - requires:{14}\n",
    "16   ☉ ↺ ∞ <J `forever=True crit.=False status=ongoing boom=False`> - requires:{15}\n",
    "17     ⚐ ∞ <J `forever=True crit.=False status=idle boom=False`> - requires:{16}\n",
    "18   ☉ ☓   <J `forever=False crit.=False status=done boom=False` -> 0> - requires:{17}\n",
    "19   ☉ ↺   <J `forever=False crit.=False status=ongoing boom=False`> - requires:{18}\n",
    "20     ⚐   <J `forever=False crit.=False status=idle boom=False`> - requires:{19}\n",
    "```\n",
    "\n",
    "Note that if your locale/terminal cannot output these, the code will tentatively resort to pure ASCII output."
   ]
  },
  {
   "cell_type": "markdown",
   "metadata": {},
   "source": [
    "### Example C : infinite loops, or coroutines that don't return"
   ]
  },
  {
   "cell_type": "markdown",
   "metadata": {},
   "source": [
    "Sometimes it is useful to deal with a endless loop; for example if we want to separate completely actions and printing, we can use an `asyncio.Queue` to implement a simple message bus as follows"
   ]
  },
  {
   "cell_type": "code",
   "execution_count": 14,
   "metadata": {
    "collapsed": true
   },
   "outputs": [],
   "source": [
    "message_bus = asyncio.Queue()\n",
    "\n",
    "async def monitor_loop(bus):\n",
    "    while True:\n",
    "        message = await bus.get()\n",
    "        print(\"BUS: {}\".format(message))"
   ]
  },
  {
   "cell_type": "markdown",
   "metadata": {},
   "source": [
    "Now we need a modified version of the previous coroutine, that interacts with this message bus instead of printing anything itself&nbsp;:"
   ]
  },
  {
   "cell_type": "code",
   "execution_count": 15,
   "metadata": {
    "collapsed": true
   },
   "outputs": [],
   "source": [
    "async def in_out_bus(timeout, bus):\n",
    "    await bus.put(\"-> in_out({})\".format(timeout))\n",
    "    await asyncio.sleep(timeout)\n",
    "    await bus.put(\"<- in_out({})\".format(timeout))\n",
    "    # return something easy to recognize\n",
    "    return 10 * timeout"
   ]
  },
  {
   "cell_type": "markdown",
   "metadata": {},
   "source": [
    "We can replay the prevous scenario, adding the monitoring loop as a separate job; however we need to declare this job with `forever=True` so that the scheduler knows it does not have to wait for the monitoring loop, that will never return."
   ]
  },
  {
   "cell_type": "code",
   "execution_count": 16,
   "metadata": {
    "collapsed": false
   },
   "outputs": [
    {
     "name": "stdout",
     "output_type": "stream",
     "text": [
      "BUS: -> in_out(0.2)\n",
      "BUS: -> in_out(0.4)\n",
      "BUS: <- in_out(0.2)\n",
      "BUS: -> in_out(0.3)\n",
      "BUS: <- in_out(0.4)\n",
      "BUS: <- in_out(0.3)\n"
     ]
    },
    {
     "data": {
      "text/plain": [
       "True"
      ]
     },
     "execution_count": 16,
     "metadata": {},
     "output_type": "execute_result"
    }
   ],
   "source": [
    "c1, c2, c3, c4 = (Job(in_out_bus(0.2, message_bus), label=\"c1\"),\n",
    "                  Job(in_out_bus(0.4, message_bus), label=\"c2\"), \n",
    "                  Job(in_out_bus(0.3, message_bus), label=\"c3\"),\n",
    "                  Job(monitor_loop(message_bus), forever=True, label=\"monitor\"))\n",
    "\n",
    "c3.requires(c1)\n",
    "\n",
    "sc = Scheduler(c1, c2, c3, c4)\n",
    "sc.orchestrate()"
   ]
  },
  {
   "cell_type": "markdown",
   "metadata": {},
   "source": [
    "Note that `orchestrate` always terminates as soon as all the non-`forever` jobs are complete. The `forever` jobs, on the other hand, get cancelled, so of course no return value is available at the end of the scenario&nbsp;:"
   ]
  },
  {
   "cell_type": "code",
   "execution_count": 17,
   "metadata": {
    "collapsed": false
   },
   "outputs": [
    {
     "name": "stdout",
     "output_type": "stream",
     "text": [
      "01   ☉ ☓   <Job `c1`>[[ -> 2.0]]\n",
      "02   ☉ ↺ ∞ <Job `monitor`>\n",
      "03   ☉ ☓   <Job `c3`>[[ -> 3.0]] - requires {01}\n",
      "04   ☉ ☓   <Job `c2`>[[ -> 4.0]]\n"
     ]
    }
   ],
   "source": [
    "sc.list()"
   ]
  },
  {
   "cell_type": "markdown",
   "metadata": {},
   "source": [
    "### Example D : specifying a global timeout"
   ]
  },
  {
   "cell_type": "markdown",
   "metadata": {},
   "source": [
    "`orchestrate` accepts a `timeout` argument in seconds. When provided, `orchestrate` will ensure its global duration does not exceed this value, and will return `False` if the timeout triggers.\n",
    "\n",
    "Of course this can be used with any number of jobs and dependencies, but for the sake of simplicity let us see this in action with just one job that loops forever"
   ]
  },
  {
   "cell_type": "code",
   "execution_count": 18,
   "metadata": {
    "collapsed": false
   },
   "outputs": [
    {
     "name": "stdout",
     "output_type": "stream",
     "text": [
      "11:11:24: forever 0\n",
      "11:11:24: forever 1\n",
      "11:11:24: forever 2\n",
      "11-11-24: SCHEDULER: orchestrate: TIMEOUT occurred\n"
     ]
    },
    {
     "data": {
      "text/plain": [
       "False"
      ]
     },
     "execution_count": 18,
     "metadata": {},
     "output_type": "execute_result"
    }
   ],
   "source": [
    "async def forever():\n",
    "    for i in range(100000):\n",
    "        print(\"{}: forever {}\".format(time.strftime(\"%H:%M:%S\"), i))\n",
    "        await asyncio.sleep(.1)\n",
    "        \n",
    "j = Job(forever(), forever=True)\n",
    "sd = Scheduler(j)\n",
    "sd.orchestrate(timeout=0.25)"
   ]
  },
  {
   "cell_type": "markdown",
   "metadata": {},
   "source": [
    "As you can see the result of `orchestrate` in this case is `False`, since not all jobs have completed. Apart from that the jobs is now in this state:"
   ]
  },
  {
   "cell_type": "code",
   "execution_count": 19,
   "metadata": {
    "collapsed": false
   },
   "outputs": [
    {
     "data": {
      "text/plain": [
       "  ☉ ↺ ∞ <Job `NOLABEL`>"
      ]
     },
     "execution_count": 19,
     "metadata": {},
     "output_type": "execute_result"
    }
   ],
   "source": [
    "j"
   ]
  },
  {
   "cell_type": "markdown",
   "metadata": {},
   "source": [
    "### Handling exceptions"
   ]
  },
  {
   "cell_type": "markdown",
   "metadata": {
    "collapsed": true
   },
   "source": [
    "A job instance can be **critical** or not; what this means is as follows\n",
    "\n",
    " * if a critical job raises an exception, the whole scheduler aborts immediately and returns False\n",
    " * if a non-critical job raises an exception, the whole scheduler proceeds regardless\n",
    " \n",
    "In both cases the exception can be retrieved in the corresponding Job object with `raised_exception()`"
   ]
  },
  {
   "cell_type": "markdown",
   "metadata": {},
   "source": [
    "For convenience, the **critical** property can be set either at the `Job` or at the `Scheduler` level. Of course the former takes precedence if set. The default for an scheduler object is `critical=False`. Let us see this below."
   ]
  },
  {
   "cell_type": "markdown",
   "metadata": {},
   "source": [
    "### Example E : non critical jobs"
   ]
  },
  {
   "cell_type": "code",
   "execution_count": 20,
   "metadata": {
    "collapsed": true
   },
   "outputs": [],
   "source": [
    "async def boom(n):\n",
    "    await asyncio.sleep(n)\n",
    "    raise Exception(\"boom after {}s\".format(n))"
   ]
  },
  {
   "cell_type": "code",
   "execution_count": 21,
   "metadata": {
    "collapsed": false
   },
   "outputs": [
    {
     "name": "stdout",
     "output_type": "stream",
     "text": [
      "-> in_out(0.2)\n",
      "<- in_out(0.2)\n",
      "-> in_out(0.3)\n",
      "<- in_out(0.3)\n",
      "orch: True\n",
      "01   ☉ ☓   <Job `NOLABEL`>[[ -> 200.0]]\n",
      "02   ★ ☓   <Job `boom`>!! exception => Exception:boom after 0.2s!! - requires {01}\n",
      "03   ☉ ☓   <Job `NOLABEL`>[[ -> 300.0]] - requires {02}\n"
     ]
    }
   ],
   "source": [
    "# by default everything is non critical\n",
    "e1 = Job(in_out(0.2))\n",
    "e2 = Job(boom(0.2), label=\"boom\")\n",
    "e3 = Job(in_out(0.3))\n",
    "e2.requires(e1)\n",
    "e3.requires(e2)\n",
    "\n",
    "se = Scheduler(e1, e2, e3)\n",
    "print(\"orch:\", se.orchestrate())\n",
    "se.list()"
   ]
  },
  {
   "cell_type": "markdown",
   "metadata": {},
   "source": [
    "### Example F : critical jobs"
   ]
  },
  {
   "cell_type": "markdown",
   "metadata": {},
   "source": [
    "Making the *boom* job critical would instead cause the scheduler to bail out:"
   ]
  },
  {
   "cell_type": "code",
   "execution_count": 22,
   "metadata": {
    "collapsed": false
   },
   "outputs": [
    {
     "name": "stdout",
     "output_type": "stream",
     "text": [
      "-> in_out(0.2)\n",
      "<- in_out(0.2)\n",
      "11-11-25: SCHEDULER: Emergency exit upon exception in critical job\n",
      "orchestrate: False\n",
      "01   ☉ ☓   <Job `NOLABEL`>[[ -> 200.0]]\n",
      "02 ⚠ ★ ☓   <Job `boom`>!! CRIT. EXC. => Exception:boom after 0.2s!! - requires {01}\n",
      "03     ⚐   <Job `NOLABEL`> - requires {02}\n"
     ]
    }
   ],
   "source": [
    "f1 = Job(in_out(0.2))\n",
    "f2 = Job(boom(0.2), label=\"boom\", critical=True)\n",
    "f3 = Job(in_out(0.3))\n",
    "\n",
    "sf = Scheduler(Sequence(f1, f2, f3))\n",
    "print(\"orchestrate:\", sf.orchestrate())\n",
    "sf.list()"
   ]
  },
  {
   "cell_type": "markdown",
   "metadata": {},
   "source": [
    "## Customizing jobs"
   ]
  },
  {
   "cell_type": "markdown",
   "metadata": {},
   "source": [
    "### Customizing the `Job` class\n",
    "\n",
    "`Job` actually is a specializtion of `AbstractJob`, and the specification is that the `co_run()` method should denote a coroutine itself, as that is what is triggered by `Scheduler` for running said job."
   ]
  },
  {
   "cell_type": "markdown",
   "metadata": {},
   "source": [
    "### `AbstractJob.co_shutdown()`\n",
    "\n",
    "Before returning, `orcheutrate` sends the `co_shutdown()` method on all jobs. The default behaviour - in the `Job` class - is to do nothing, but this can be redefined when relevant. Typically, an implementation of an `SshJob` will allow for a given SSH connection to be shared amongs several `SshJob` instances, and so `co_shutdown()` may be used to  close the underlying SSH connections at the end of the scenario."
   ]
  },
  {
   "cell_type": "markdown",
   "metadata": {},
   "source": [
    "### The `apssh`  library and the ` SshJob` class\n",
    "\n",
    "You can easily define your own `Job` class by specializing `job.AbstractJob`. As an example, which was the primary target when developping `asynciojobs`, you can find [in the `apssh` library](https://github.com/parmentelat/apssh) a `SshJob` class, with which you can easily orchestrate scenarios involving several hosts that you interact with using ssh."
   ]
  },
  {
   "cell_type": "markdown",
   "metadata": {},
   "source": [
    "## Other useful features on the `Scheduler`class"
   ]
  },
  {
   "cell_type": "markdown",
   "metadata": {},
   "source": [
    "### `Scheduler.debrief()`\n",
    "\n",
    "`Scheduler.debrief()` is designed for schedulers that have run and returned `False`, it does output the same listing as `list()` but with additional statistics on the number of jobs, and, most importantly, on the stacks of jobs that have raised an exception."
   ]
  },
  {
   "cell_type": "markdown",
   "metadata": {},
   "source": [
    "### `Scheduler.sanitize()`\n",
    "\n",
    "In some cases like esp. test scenarios, it can be helpful to add requirements to jobs that are not in the scheduler. The `sanitize` method removes such extra requirements, and unless you are certain it is not your case, it might be a good idea to call it explcitly before an orchestration."
   ]
  },
  {
   "cell_type": "markdown",
   "metadata": {},
   "source": [
    "### `Scheduler.rain_check()`\n",
    "\n",
    "`rain_check` will check for cycles in the requirements graph. It returns a boolean. It's a good idea to call it before running an orchestration."
   ]
  },
  {
   "cell_type": "markdown",
   "metadata": {},
   "source": [
    "### `Scheduler.export_as_dotfile()`\n",
    "\n",
    "An scheduler can be exported as a dotfile for feeding `graphviz` and producing visual diagrams. Provided that you have the `dot` program (which is part of `graphviz`) installed, you could do something like\n",
    "\n",
    "    e.save_as_dotfile('foo.dot')\n",
    "    os.system(\"dot -Tpng foo.dot -o foo.png\")\n"
   ]
  },
  {
   "cell_type": "markdown",
   "metadata": {},
   "source": [
    "### `Scheduler.co_orchestrate()` \n",
    "\n",
    "`orchestrate` is a regular `def` function (i.e. not an `async def`), but in fact just a wrapper around the native coroutine called `co_orchestrate`.\n",
    "\n",
    "    def orchestrate(self, loop=None, *args, **kwds):\n",
    "        if loop is None:\n",
    "            loop = asyncio.get_event_loop()\n",
    "        return loop.run_until_complete(self.co_orchestrate(loop=loop, *args, **kwds))"
   ]
  }
 ],
 "metadata": {
  "kernelspec": {
   "display_name": "Python 3",
   "language": "python",
   "name": "python3"
  },
  "language_info": {
   "codemirror_mode": {
    "name": "ipython",
    "version": 3
   },
   "file_extension": ".py",
   "mimetype": "text/x-python",
   "name": "python",
   "nbconvert_exporter": "python",
   "pygments_lexer": "ipython3",
   "version": "3.5.2"
  },
  "notebookname": "Installing",
  "version": "1.0"
 },
 "nbformat": 4,
 "nbformat_minor": 1
}
